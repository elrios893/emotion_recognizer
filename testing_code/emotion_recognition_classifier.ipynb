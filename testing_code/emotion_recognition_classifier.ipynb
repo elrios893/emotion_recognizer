{
 "cells": [
  {
   "cell_type": "code",
   "execution_count": 183,
   "id": "4247fd60",
   "metadata": {},
   "outputs": [],
   "source": [
    "import librosa\n",
    "import numpy as np\n",
    "\n",
    "def extract_mfcc(file_path, n_mfcc=40):\n",
    "    try:\n",
    "        audio, sr = librosa.load(file_path, duration=3, offset=0.5)\n",
    "        mfccs = librosa.feature.mfcc(y=audio, sr=sr, n_mfcc=n_mfcc)\n",
    "        mfccs_mean = np.mean(mfccs.T, axis=0)\n",
    "        return mfccs_mean\n",
    "    except Exception as e:\n",
    "        print(f\"Error al procesar {file_path}: {e}\")\n",
    "        return None"
   ]
  },
  {
   "cell_type": "code",
   "execution_count": 184,
   "id": "ad407a11",
   "metadata": {},
   "outputs": [],
   "source": [
    "def extract_features(file_path):\n",
    "    signal, sr = librosa.load(file_path, sr=22050)\n",
    "    mfccs = librosa.feature.mfcc(y=signal, sr=sr, n_mfcc=13)\n",
    "    mfccs_mean = np.mean(mfccs.T, axis=0)\n",
    "    return mfccs_mean"
   ]
  },
  {
   "cell_type": "code",
   "execution_count": 185,
   "id": "6a75a041",
   "metadata": {},
   "outputs": [],
   "source": [
    "import os\n",
    "from glob import glob\n",
    "# emotion_recognition_project/utils/label_features.py\n",
    "\n",
    "def extract_emotion(filename):\n",
    "    emotion_code = int(filename.split(\"-\")[2])\n",
    "    emotions = {\n",
    "        1: \"neutral\",\n",
    "        2: \"calm\",\n",
    "        3: \"happy\",\n",
    "        4: \"sad\",\n",
    "        5: \"angry\",\n",
    "        6: \"fearful\",\n",
    "        7: \"disgust\",\n",
    "        8: \"surprised\"\n",
    "    }\n",
    "    return emotions.get(emotion_code, \"unknown\")\n",
    "\n",
    "\n",
    "def extract_filenames():\n",
    "    # Ruta a la carpeta donde están los audios\n",
    "    DATASET_PATH = \"C:/Users/Usuario/OneDrive - IUE/SEMESTRE 2025-1/Inteligencia artificial/Final/emotion_recognition_project/audios\"\n",
    "    audio_files = glob(os.path.join(DATASET_PATH, \"**/*.wav\"), recursive=True)\n",
    "\n",
    "# Crear una lista con tuplas: (ruta_archivo, emoción)\n",
    "    data = []\n",
    "\n",
    "    for file_path in audio_files:\n",
    "        filename = os.path.basename(file_path)\n",
    "        emotion = extract_emotion(filename)\n",
    "        data.append((file_path, emotion))\n",
    "    print(f\"Total de archivos encontrados: {len(data)}\")\n",
    "    return data"
   ]
  },
  {
   "cell_type": "code",
   "execution_count": 186,
   "id": "986872de",
   "metadata": {},
   "outputs": [
    {
     "name": "stdout",
     "output_type": "stream",
     "text": [
      "Total de archivos encontrados: 2451\n"
     ]
    }
   ],
   "source": [
    "import pandas as pd\n",
    "data = extract_filenames()\n",
    "df = pd.DataFrame(data, columns=[\"file_path\", \"emotion\"])\n"
   ]
  },
  {
   "cell_type": "code",
   "execution_count": 187,
   "id": "e7d58e1b",
   "metadata": {},
   "outputs": [
    {
     "data": {
      "text/html": [
       "<div>\n",
       "<style scoped>\n",
       "    .dataframe tbody tr th:only-of-type {\n",
       "        vertical-align: middle;\n",
       "    }\n",
       "\n",
       "    .dataframe tbody tr th {\n",
       "        vertical-align: top;\n",
       "    }\n",
       "\n",
       "    .dataframe thead th {\n",
       "        text-align: right;\n",
       "    }\n",
       "</style>\n",
       "<table border=\"1\" class=\"dataframe\">\n",
       "  <thead>\n",
       "    <tr style=\"text-align: right;\">\n",
       "      <th></th>\n",
       "      <th>file_path</th>\n",
       "      <th>emotion</th>\n",
       "    </tr>\n",
       "  </thead>\n",
       "  <tbody>\n",
       "    <tr>\n",
       "      <th>0</th>\n",
       "      <td>03-01-01-01-01-01-01.wav</td>\n",
       "      <td>neutral</td>\n",
       "    </tr>\n",
       "    <tr>\n",
       "      <th>1</th>\n",
       "      <td>03-01-01-01-01-02-01.wav</td>\n",
       "      <td>neutral</td>\n",
       "    </tr>\n",
       "    <tr>\n",
       "      <th>2</th>\n",
       "      <td>03-01-01-01-02-01-01.wav</td>\n",
       "      <td>neutral</td>\n",
       "    </tr>\n",
       "    <tr>\n",
       "      <th>3</th>\n",
       "      <td>03-01-01-01-02-02-01.wav</td>\n",
       "      <td>neutral</td>\n",
       "    </tr>\n",
       "    <tr>\n",
       "      <th>4</th>\n",
       "      <td>03-01-02-01-01-01-01.wav</td>\n",
       "      <td>calm</td>\n",
       "    </tr>\n",
       "    <tr>\n",
       "      <th>...</th>\n",
       "      <td>...</td>\n",
       "      <td>...</td>\n",
       "    </tr>\n",
       "    <tr>\n",
       "      <th>2446</th>\n",
       "      <td>03-02-06-01-02-02-24.wav</td>\n",
       "      <td>fearful</td>\n",
       "    </tr>\n",
       "    <tr>\n",
       "      <th>2447</th>\n",
       "      <td>03-02-06-02-01-01-24.wav</td>\n",
       "      <td>fearful</td>\n",
       "    </tr>\n",
       "    <tr>\n",
       "      <th>2448</th>\n",
       "      <td>03-02-06-02-01-02-24.wav</td>\n",
       "      <td>fearful</td>\n",
       "    </tr>\n",
       "    <tr>\n",
       "      <th>2449</th>\n",
       "      <td>03-02-06-02-02-01-24.wav</td>\n",
       "      <td>fearful</td>\n",
       "    </tr>\n",
       "    <tr>\n",
       "      <th>2450</th>\n",
       "      <td>03-02-06-02-02-02-24.wav</td>\n",
       "      <td>fearful</td>\n",
       "    </tr>\n",
       "  </tbody>\n",
       "</table>\n",
       "<p>2451 rows × 2 columns</p>\n",
       "</div>"
      ],
      "text/plain": [
       "                     file_path  emotion\n",
       "0     03-01-01-01-01-01-01.wav  neutral\n",
       "1     03-01-01-01-01-02-01.wav  neutral\n",
       "2     03-01-01-01-02-01-01.wav  neutral\n",
       "3     03-01-01-01-02-02-01.wav  neutral\n",
       "4     03-01-02-01-01-01-01.wav     calm\n",
       "...                        ...      ...\n",
       "2446  03-02-06-01-02-02-24.wav  fearful\n",
       "2447  03-02-06-02-01-01-24.wav  fearful\n",
       "2448  03-02-06-02-01-02-24.wav  fearful\n",
       "2449  03-02-06-02-02-01-24.wav  fearful\n",
       "2450  03-02-06-02-02-02-24.wav  fearful\n",
       "\n",
       "[2451 rows x 2 columns]"
      ]
     },
     "execution_count": 187,
     "metadata": {},
     "output_type": "execute_result"
    }
   ],
   "source": [
    "df['file_path'] = df['file_path'].apply(os.path.basename)\n",
    "df"
   ]
  },
  {
   "cell_type": "code",
   "execution_count": 188,
   "id": "31fe5de4",
   "metadata": {},
   "outputs": [],
   "source": [
    "X = []\n",
    "y = []\n",
    "\n",
    "for file_path, emotion in data:\n",
    "    features = extract_features(file_path)\n",
    "    X.append(features)\n",
    "    y.append(emotion)\n",
    "    "
   ]
  },
  {
   "cell_type": "code",
   "execution_count": 190,
   "id": "607056eb",
   "metadata": {},
   "outputs": [
    {
     "name": "stdout",
     "output_type": "stream",
     "text": [
      "Counter({'calm': 376, 'happy': 376, 'sad': 376, 'angry': 376, 'fearful': 376, 'disgust': 192, 'surprised': 192, 'neutral': 187})\n"
     ]
    }
   ],
   "source": [
    "import collections\n",
    "print(collections.Counter(y))"
   ]
  },
  {
   "cell_type": "code",
   "execution_count": 198,
   "id": "1c6e1e21",
   "metadata": {},
   "outputs": [
    {
     "name": "stdout",
     "output_type": "stream",
     "text": [
      "Entrenando modelo...\n",
      "Evaluando...\n",
      "              precision    recall  f1-score   support\n",
      "\n",
      "       angry       0.76      0.78      0.77        78\n",
      "        calm       0.60      0.78      0.67        80\n",
      "     disgust       0.52      0.33      0.41        42\n",
      "     fearful       0.51      0.53      0.52        70\n",
      "       happy       0.69      0.62      0.65        68\n",
      "     neutral       0.48      0.24      0.32        41\n",
      "         sad       0.47      0.55      0.51        76\n",
      "   surprised       0.51      0.50      0.51        36\n",
      "\n",
      "    accuracy                           0.58       491\n",
      "   macro avg       0.57      0.54      0.54       491\n",
      "weighted avg       0.58      0.58      0.57       491\n",
      "\n"
     ]
    }
   ],
   "source": [
    "from sklearn.model_selection import train_test_split\n",
    "from sklearn.ensemble import RandomForestClassifier\n",
    "from sklearn.metrics import classification_report\n",
    "\n",
    "X_train, X_test, y_train, y_test = train_test_split(X, y, test_size=0.2, random_state=42)\n",
    "\n",
    "# Entrenar modelo\n",
    "print(\"Entrenando modelo...\")\n",
    "model = RandomForestClassifier(class_weight='balanced')\n",
    "model.fit(X_train, y_train)\n",
    "\n",
    "# Evaluar\n",
    "print(\"Evaluando...\")\n",
    "y_pred = model.predict(X_test)\n",
    "print(classification_report(y_test, y_pred))"
   ]
  },
  {
   "cell_type": "code",
   "execution_count": 200,
   "id": "5a52ebad",
   "metadata": {},
   "outputs": [
    {
     "name": "stdout",
     "output_type": "stream",
     "text": [
      "Accuracy: 0.6456211812627292\n",
      "              precision    recall  f1-score   support\n",
      "\n",
      "       angry       0.78      0.85      0.81        78\n",
      "        calm       0.66      0.65      0.65        80\n",
      "     disgust       0.62      0.57      0.59        42\n",
      "     fearful       0.56      0.53      0.54        70\n",
      "       happy       0.72      0.68      0.70        68\n",
      "     neutral       0.51      0.56      0.53        41\n",
      "         sad       0.60      0.68      0.64        76\n",
      "   surprised       0.63      0.47      0.54        36\n",
      "\n",
      "    accuracy                           0.65       491\n",
      "   macro avg       0.63      0.62      0.63       491\n",
      "weighted avg       0.65      0.65      0.64       491\n",
      "\n"
     ]
    },
    {
     "name": "stderr",
     "output_type": "stream",
     "text": [
      "c:\\Users\\Usuario\\AppData\\Local\\Programs\\Python\\Python312\\Lib\\site-packages\\sklearn\\neural_network\\_multilayer_perceptron.py:690: ConvergenceWarning: Stochastic Optimizer: Maximum iterations (300) reached and the optimization hasn't converged yet.\n",
      "  warnings.warn(\n"
     ]
    }
   ],
   "source": [
    "from sklearn.neural_network import MLPClassifier\n",
    "from sklearn.preprocessing import StandardScaler\n",
    "from sklearn.metrics import classification_report, accuracy_score\n",
    "\n",
    "# Normaliza los datos (muy importante para redes neuronales)\n",
    "scaler = StandardScaler()\n",
    "X_train_scaled = scaler.fit_transform(X_train)\n",
    "X_test_scaled = scaler.transform(X_test)\n",
    "\n",
    "# Crea y entrena el MLP\n",
    "mlp = MLPClassifier(hidden_layer_sizes=(128, 64), max_iter=300, random_state=42)\n",
    "mlp.fit(X_train_scaled, y_train)\n",
    "\n",
    "# Evalúa el modelo\n",
    "y_pred = mlp.predict(X_test_scaled)\n",
    "print(\"Accuracy:\", accuracy_score(y_test, y_pred))\n",
    "print(classification_report(y_test, y_pred))"
   ]
  },
  {
   "cell_type": "code",
   "execution_count": 211,
   "id": "89b97d05",
   "metadata": {},
   "outputs": [
    {
     "name": "stdout",
     "output_type": "stream",
     "text": [
      "¡Habla ahora!\n",
      "Audio guardado como mi_audio.wav\n"
     ]
    }
   ],
   "source": [
    "import sounddevice as sd\n",
    "from scipy.io.wavfile import write\n",
    "\n",
    "fs = 22050  # Frecuencia de muestreo (igual que en tu modelo)\n",
    "seconds = 3  # Duración de la grabación\n",
    "\n",
    "print(\"¡Habla ahora!\")\n",
    "audio = sd.rec(int(seconds * fs), samplerate=fs, channels=1)\n",
    "sd.wait()  # Espera a que termine la grabación\n",
    "\n",
    "write('mi_audio.wav', fs, audio)\n",
    "print(\"Audio guardado como mi_audio.wav\")"
   ]
  },
  {
   "cell_type": "code",
   "execution_count": null,
   "id": "d0c019d2",
   "metadata": {},
   "outputs": [
    {
     "name": "stdout",
     "output_type": "stream",
     "text": [
      "Emoción predicha: calm\n"
     ]
    }
   ],
   "source": [
    "ruta_nuevo_audio = \"C:/Users/Usuario/OneDrive - IUE/SEMESTRE 2025-1/Inteligencia artificial/Final/emotion_recognition_project/testing_code/mi_audio.wav\"\n",
    "nuevas_caracteristicas = extract_features(ruta_nuevo_audio)\n",
    "\n",
    "\n",
    "prediccion = mlp.predict([nuevas_caracteristicas])\n",
    "print(\"Emoción predicha:\", prediccion[0])"
   ]
  },
  {
   "cell_type": "code",
   "execution_count": null,
   "id": "f321ac0d",
   "metadata": {},
   "outputs": [
    {
     "data": {
      "image/png": "[encoded data removed]",
      "text/plain": [
       "<Figure size 1000x400 with 1 Axes>"
      ]
     },
     "metadata": {},
     "output_type": "display_data"
    },
    {
     "data": {
      "image/png": "[encoded data removed]",
      "text/plain": [
       "<Figure size 1000x400 with 1 Axes>"
      ]
     },
     "metadata": {},
     "output_type": "display_data"
    }
   ],
   "source": [
    "import matplotlib.pyplot as plt\n",
    "\n",
    "plt.figure(figsize=(10,4))\n",
    "plt.title(\"MFCC de dataset\")\n",
    "plt.plot(X_train[0])\n",
    "plt.show()\n",
    "\n",
    "plt.figure(figsize=(10,4))\n",
    "plt.title(\"MFCC de audio grabado\")\n",
    "plt.plot(nuevas_caracteristicas)\n",
    "plt.show()"
   ]
  },
  {
   "cell_type": "code",
   "execution_count": null,
   "id": "f46ac842",
   "metadata": {},
   "outputs": [],
   "source": []
  }
 ],
 "metadata": {
  "kernelspec": {
   "display_name": "Python 3",
   "language": "python",
   "name": "python3"
  },
  "language_info": {
   "codemirror_mode": {
    "name": "ipython",
    "version": 3
   },
   "file_extension": ".py",
   "mimetype": "text/x-python",
   "name": "python",
   "nbconvert_exporter": "python",
   "pygments_lexer": "ipython3",
   "version": "3.12.7"
  }
 },
 "nbformat": 4,
 "nbformat_minor": 5
}
